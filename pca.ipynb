{
  "nbformat": 4,
  "nbformat_minor": 0,
  "metadata": {
    "colab": {
      "provenance": []
    },
    "kernelspec": {
      "name": "python3",
      "display_name": "Python 3"
    },
    "language_info": {
      "name": "python"
    }
  },
  "cells": [
    {
      "cell_type": "code",
      "execution_count": null,
      "metadata": {
        "id": "Zr51kAlrsUHx"
      },
      "outputs": [],
      "source": [
        "import numpy as np\n",
        "import pandas as pd\n",
        "import matplotlib.pyplot as plt\n",
        "%matplotlib inline"
      ]
    },
    {
      "cell_type": "code",
      "source": [
        "x = np.array([2.5,0.5,2.2,1.9,3.1,2.3,2,1,1.5,1])\n",
        "y = np.array([2.4,0.7,2.9,2.2,3,2.7,1.6,1.1,1.6,0.9])\n",
        "print(x,y)"
      ],
      "metadata": {
        "colab": {
          "base_uri": "https://localhost:8080/"
        },
        "id": "JPt8MQ9W0uvd",
        "outputId": "7b88d907-6ca5-4641-dd58-145e97910444"
      },
      "execution_count": null,
      "outputs": [
        {
          "output_type": "stream",
          "name": "stdout",
          "text": [
            "[2.5 0.5 2.2 1.9 3.1 2.3 2.  1.  1.5 1. ] [2.4 0.7 2.9 2.2 3.  2.7 1.6 1.1 1.6 0.9]\n"
          ]
        }
      ]
    },
    {
      "cell_type": "code",
      "source": [
        "plt.scatter(x,y)"
      ],
      "metadata": {
        "colab": {
          "base_uri": "https://localhost:8080/",
          "height": 282
        },
        "id": "jMhI6UmS0wyM",
        "outputId": "3e32edde-1bf1-49ff-a48f-0a901f57e51a"
      },
      "execution_count": null,
      "outputs": [
        {
          "output_type": "execute_result",
          "data": {
            "text/plain": [
              "<matplotlib.collections.PathCollection at 0x7f14a086d290>"
            ]
          },
          "metadata": {},
          "execution_count": 4
        },
        {
          "output_type": "display_data",
          "data": {
            "text/plain": [
              "<Figure size 432x288 with 1 Axes>"
            ],
            "image/png": "[encoded data removed]"
          },
          "metadata": {
            "needs_background": "light"
          }
        }
      ]
    },
    {
      "cell_type": "code",
      "source": [
        "x_mean = np.mean(x)\n",
        "y_mean = np.mean(y)\n",
        "x_std = x - x_mean\n",
        "y_std = y - y_mean\n",
        "cov_mat = np.cov([x_std,y_std])\n",
        "print(cov_mat)"
      ],
      "metadata": {
        "colab": {
          "base_uri": "https://localhost:8080/"
        },
        "id": "Za3rrJWb0y1a",
        "outputId": "91111a46-a54f-4330-b5f5-09537e22fab8"
      },
      "execution_count": null,
      "outputs": [
        {
          "output_type": "stream",
          "name": "stdout",
          "text": [
            "[[0.63333333 0.62666667]\n",
            " [0.62666667 0.71655556]]\n"
          ]
        }
      ]
    },
    {
      "cell_type": "code",
      "source": [
        "# eigenvectors and eigenvalues for the from the scatter matrix\n",
        "eig_val_sc, eig_vec_sc = np.linalg.eig(cov_mat)\n",
        "\n",
        "for i in range(len(eig_val_sc)):\n",
        "    eigvec_sc = eig_vec_sc[:,i].reshape(1,2).T\n",
        "\n",
        "    print('Eigenvector {}: \\n{}'.format(i+1, eigvec_sc))\n",
        "    print('Eigenvalue {} from scatter matrix: {}'.format(i+1, eig_val_sc[i]))\n",
        "    print(40 * '-')"
      ],
      "metadata": {
        "colab": {
          "base_uri": "https://localhost:8080/"
        },
        "id": "Ql5za-RA00rv",
        "outputId": "c5825b9d-22e3-414d-e12f-61b913ab0547"
      },
      "execution_count": null,
      "outputs": [
        {
          "output_type": "stream",
          "name": "stdout",
          "text": [
            "Eigenvector 1: \n",
            "[[-0.73015574]\n",
            " [ 0.68328076]]\n",
            "Eigenvalue 1 from scatter matrix: 0.04689779356649226\n",
            "----------------------------------------\n",
            "Eigenvector 2: \n",
            "[[-0.68328076]\n",
            " [-0.73015574]]\n",
            "Eigenvalue 2 from scatter matrix: 1.3029910953223962\n",
            "----------------------------------------\n"
          ]
        }
      ]
    },
    {
      "cell_type": "code",
      "source": [
        "# Make a list of (eigenvalue, eigenvector) tuples\n",
        "eig_pairs = [(np.abs(eig_val_sc[i]), eig_vec_sc[:,i]) for i in range(len(eig_val_sc))]\n",
        "\n",
        "# Sort the (eigenvalue, eigenvector) tuples from high to low\n",
        "eig_pairs.sort(key=lambda x: x[0], reverse=True)\n",
        "\n",
        "print(40 * '-')\n",
        "# Visually confirm that the list is correctly sorted by decreasing eigenvalues\n",
        "for i in eig_pairs:\n",
        "    print(i[1])"
      ],
      "metadata": {
        "colab": {
          "base_uri": "https://localhost:8080/"
        },
        "id": "AjlcU9fN025a",
        "outputId": "17e6c0f2-b365-4096-d77d-f548c10c0690"
      },
      "execution_count": null,
      "outputs": [
        {
          "output_type": "stream",
          "name": "stdout",
          "text": [
            "----------------------------------------\n",
            "[-0.68328076 -0.73015574]\n",
            "[-0.73015574  0.68328076]\n"
          ]
        }
      ]
    },
    {
      "cell_type": "code",
      "source": [
        "matrix_w = np.hstack((eig_pairs[0][1].reshape(2,1), eig_pairs[1][1].reshape(2,1)))\n",
        "print(40 * '-')\n",
        "print('Matrix W: \\n', matrix_w)"
      ],
      "metadata": {
        "colab": {
          "base_uri": "https://localhost:8080/"
        },
        "id": "vQE0wxHx05mk",
        "outputId": "15ae43bb-7578-4cdf-d00a-ac0d143da6ad"
      },
      "execution_count": null,
      "outputs": [
        {
          "output_type": "stream",
          "name": "stdout",
          "text": [
            "----------------------------------------\n",
            "Matrix W: \n",
            " [[-0.68328076 -0.73015574]\n",
            " [-0.73015574  0.68328076]]\n"
          ]
        }
      ]
    },
    {
      "cell_type": "code",
      "source": [
        "matrix_w.shape"
      ],
      "metadata": {
        "colab": {
          "base_uri": "https://localhost:8080/"
        },
        "id": "W3v_xxs207rb",
        "outputId": "d6b2393f-29c1-41fa-fba7-8619319bdf1b"
      },
      "execution_count": null,
      "outputs": [
        {
          "output_type": "execute_result",
          "data": {
            "text/plain": [
              "(2, 2)"
            ]
          },
          "metadata": {},
          "execution_count": 10
        }
      ]
    },
    {
      "cell_type": "code",
      "source": [
        "x.shape"
      ],
      "metadata": {
        "colab": {
          "base_uri": "https://localhost:8080/"
        },
        "id": "FR2r9nIr0-Qz",
        "outputId": "293ba945-0ae0-4afe-bad1-cd5125cd3952"
      },
      "execution_count": null,
      "outputs": [
        {
          "output_type": "execute_result",
          "data": {
            "text/plain": [
              "(10,)"
            ]
          },
          "metadata": {},
          "execution_count": 11
        }
      ]
    },
    {
      "cell_type": "code",
      "source": [
        "y.shape"
      ],
      "metadata": {
        "colab": {
          "base_uri": "https://localhost:8080/"
        },
        "id": "m-rotLmL1AUN",
        "outputId": "55245360-fcfa-4518-8c15-c3e4e19d3311"
      },
      "execution_count": null,
      "outputs": [
        {
          "output_type": "execute_result",
          "data": {
            "text/plain": [
              "(10,)"
            ]
          },
          "metadata": {},
          "execution_count": 12
        }
      ]
    },
    {
      "cell_type": "code",
      "source": [
        "features = np.vstack([x_std,y_std])\n",
        "print(features)\n",
        "features.shape"
      ],
      "metadata": {
        "colab": {
          "base_uri": "https://localhost:8080/"
        },
        "id": "wB6Q6wxX1CC7",
        "outputId": "ed86ee52-9647-41aa-919e-075bce0eec9f"
      },
      "execution_count": null,
      "outputs": [
        {
          "output_type": "stream",
          "name": "stdout",
          "text": [
            "[[ 0.7  -1.3   0.4   0.1   1.3   0.5   0.2  -0.8  -0.3  -0.8 ]\n",
            " [ 0.49 -1.21  0.99  0.29  1.09  0.79 -0.31 -0.81 -0.31 -1.01]]\n"
          ]
        },
        {
          "output_type": "execute_result",
          "data": {
            "text/plain": [
              "(2, 10)"
            ]
          },
          "metadata": {},
          "execution_count": 14
        }
      ]
    },
    {
      "cell_type": "code",
      "source": [
        "transformed = np.dot(matrix_w,features)\n",
        "print(transformed)"
      ],
      "metadata": {
        "colab": {
          "base_uri": "https://localhost:8080/"
        },
        "id": "A6jSgfQ_1D30",
        "outputId": "4cf3d78f-a5a1-43ef-d23e-907c3c78fe75"
      },
      "execution_count": null,
      "outputs": [
        {
          "output_type": "stream",
          "name": "stdout",
          "text": [
            "[[-0.83607284  1.77175343 -0.99616649 -0.28007324 -1.68413474 -0.91846341\n",
            "   0.08969213  1.13805076  0.43133251  1.2840819 ]\n",
            " [-0.17630145  0.12243274  0.38438566  0.12513585 -0.20442643  0.17471393\n",
            "  -0.35784818  0.03066718  0.00722969 -0.10598897]]\n"
          ]
        }
      ]
    },
    {
      "cell_type": "code",
      "source": [
        "plt.scatter(transformed[0,:],transformed[1,:])"
      ],
      "metadata": {
        "colab": {
          "base_uri": "https://localhost:8080/",
          "height": 282
        },
        "id": "Mpty43cB1Fhu",
        "outputId": "311d0bd8-1086-4a53-9371-47b7bbd92011"
      },
      "execution_count": null,
      "outputs": [
        {
          "output_type": "execute_result",
          "data": {
            "text/plain": [
              "<matplotlib.collections.PathCollection at 0x7f149f5ced90>"
            ]
          },
          "metadata": {},
          "execution_count": 18
        },
        {
          "output_type": "display_data",
          "data": {
            "text/plain": [
              "<Figure size 432x288 with 1 Axes>"
            ],
            "image/png": "[encoded data removed]"
          },
          "metadata": {
            "needs_background": "light"
          }
        }
      ]
    }
  ]
}