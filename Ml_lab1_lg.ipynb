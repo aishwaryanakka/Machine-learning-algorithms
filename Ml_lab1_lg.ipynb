{
  "nbformat": 4,
  "nbformat_minor": 0,
  "metadata": {
    "colab": {
      "provenance": []
    },
    "kernelspec": {
      "name": "python3",
      "display_name": "Python 3"
    },
    "language_info": {
      "name": "python"
    }
  },
  "cells": [
    {
      "cell_type": "code",
      "source": [
        "import matplotlib.pyplot as plt\n",
        "import numpy as np\n",
        "import pandas as pd\n",
        "%matplotlib inline"
      ],
      "metadata": {
        "id": "g_zXnwqhEWlS"
      },
      "execution_count": null,
      "outputs": []
    },
    {
      "cell_type": "code",
      "execution_count": null,
      "metadata": {
        "colab": {
          "base_uri": "https://localhost:8080/"
        },
        "id": "4XL3B6CbENNI",
        "outputId": "d0979761-8dd4-4c83-952c-01dc115531f3"
      },
      "outputs": [
        {
          "output_type": "stream",
          "name": "stdout",
          "text": [
            "   Course  Marks\n",
            "0       1     67\n",
            "1       2     89\n",
            "2       3     73\n",
            "3       4     97\n",
            "4       5     85\n",
            "5       6     84\n",
            "6       7     79\n"
          ]
        }
      ],
      "source": [
        "datafile = pd.DataFrame()\n",
        "datafile[0] = [1,2,3,4,5,6,7]\n",
        "datafile[1] = [67,89,73,97,85,84,79]\n",
        "datafile.columns =[\"Course\",\"Marks\"]\n",
        "print(datafile)"
      ]
    },
    {
      "cell_type": "code",
      "source": [
        "plt.scatter(datafile['Course'],datafile['Marks'])\n",
        "plt.title(\"FAT Marks\")\n",
        "\n",
        "plt.ylim(1,100)\n",
        "plt.legend()\n",
        "plt.xlabel(\"Course\")\n",
        "plt.ylabel(\"Marks\")\n",
        "plt.show()"
      ],
      "metadata": {
        "colab": {
          "base_uri": "https://localhost:8080/",
          "height": 312
        },
        "id": "3vwrMuR1HHRo",
        "outputId": "c2b9aedd-8431-4690-fb4d-cd2b6cc39920"
      },
      "execution_count": null,
      "outputs": [
        {
          "output_type": "stream",
          "name": "stderr",
          "text": [
            "WARNING:matplotlib.legend:No handles with labels found to put in legend.\n"
          ]
        },
        {
          "output_type": "display_data",
          "data": {
            "text/plain": [
              "<Figure size 432x288 with 1 Axes>"
            ],
            "image/png": "[encoded data removed]"
          },
          "metadata": {
            "needs_background": "light"
          }
        }
      ]
    },
    {
      "cell_type": "code",
      "source": [
        "import seaborn as sb\n",
        "data_corr = datafile.corr()\n",
        "sb.heatmap(data_corr,annot=True)"
      ],
      "metadata": {
        "colab": {
          "base_uri": "https://localhost:8080/",
          "height": 286
        },
        "id": "rpCsX7aqGutQ",
        "outputId": "f57cb778-4130-4507-f1c2-cca0dd8ef5c5"
      },
      "execution_count": null,
      "outputs": [
        {
          "output_type": "execute_result",
          "data": {
            "text/plain": [
              "<matplotlib.axes._subplots.AxesSubplot at 0x7f6c04ee39d0>"
            ]
          },
          "metadata": {},
          "execution_count": 16
        },
        {
          "output_type": "display_data",
          "data": {
            "text/plain": [
              "<Figure size 432x288 with 2 Axes>"
            ],
            "image/png": "[encoded data removed]"
          },
          "metadata": {
            "needs_background": "light"
          }
        }
      ]
    },
    {
      "cell_type": "code",
      "source": [
        "from sklearn import linear_model\n",
        "regress = linear_model.LinearRegression()\n",
        "\n",
        "train_x = np.asanyarray(datafile[['Course']])\n",
        "train_y = np.asanyarray(datafile[['Marks']])\n",
        "#print(train_x)\n",
        "#print(train_y)\n",
        "\n",
        "regress.fit(train_x,train_y)\n",
        "# The coefficients\n",
        "print ('Coefficients: ', regress.coef_)\n",
        "print ('Intercept: ',regress.intercept_)\n"
      ],
      "metadata": {
        "id": "D0Wau41YGyGQ",
        "colab": {
          "base_uri": "https://localhost:8080/"
        },
        "outputId": "f1b291fd-62ce-41ed-f63b-222f84771c6d"
      },
      "execution_count": null,
      "outputs": [
        {
          "output_type": "stream",
          "name": "stdout",
          "text": [
            "Coefficients:  [[1.35714286]]\n",
            "Intercept:  [76.57142857]\n"
          ]
        }
      ]
    },
    {
      "cell_type": "code",
      "execution_count": null,
      "metadata": {
        "button": false,
        "new_sheet": false,
        "run_control": {
          "read_only": false
        },
        "id": "DXYl5k7s_PGK",
        "outputId": "6e1bddaa-d9ce-4ced-d4ba-9235f902b02b",
        "colab": {
          "base_uri": "https://localhost:8080/",
          "height": 295
        }
      },
      "outputs": [
        {
          "output_type": "display_data",
          "data": {
            "text/plain": [
              "<Figure size 432x288 with 1 Axes>"
            ],
            "image/png": "[encoded data removed]"
          },
          "metadata": {
            "needs_background": "light"
          }
        }
      ],
      "source": [
        "plt.scatter(datafile.Course, datafile.Marks,  color='blue',label=\"Actual\")\n",
        "plt.plot(train_x, regress.coef_[0][0]*train_x + regress.intercept_[0], '-r',label=\"Predicted\")\n",
        "plt.title(\"Marks plot\")\n",
        "plt.xlim(1,10)\n",
        "plt.ylim(1,100)\n",
        "plt.xticks(np.arange(1,20,1))\n",
        "plt.legend()\n",
        "plt.xlabel(\"Course\")\n",
        "plt.ylabel(\"Marks\")\n",
        "plt.show()"
      ]
    },
    {
      "cell_type": "code",
      "source": [
        "y_predicted = regress.predict(train_x)\n",
        "for i in range(0,len(train_x)):\n",
        "    print(train_y[i],y_predicted[i])\n",
        "datafile['Predicted'] = y_predicted\n",
        "print(y_predicted)\n",
        "print(datafile.head())"
      ],
      "metadata": {
        "colab": {
          "base_uri": "https://localhost:8080/"
        },
        "id": "4iqvdb_HOBbZ",
        "outputId": "c435bd2b-ed45-4bde-cd28-3e8574c78a04"
      },
      "execution_count": null,
      "outputs": [
        {
          "output_type": "stream",
          "name": "stdout",
          "text": [
            "[67] [77.92857143]\n",
            "[89] [79.28571429]\n",
            "[73] [80.64285714]\n",
            "[97] [82.]\n",
            "[85] [83.35714286]\n",
            "[84] [84.71428571]\n",
            "[79] [86.07142857]\n",
            "[[77.92857143]\n",
            " [79.28571429]\n",
            " [80.64285714]\n",
            " [82.        ]\n",
            " [83.35714286]\n",
            " [84.71428571]\n",
            " [86.07142857]]\n",
            "   Course  Marks  Predicted\n",
            "0       1     67  77.928571\n",
            "1       2     89  79.285714\n",
            "2       3     73  80.642857\n",
            "3       4     97  82.000000\n",
            "4       5     85  83.357143\n"
          ]
        }
      ]
    },
    {
      "cell_type": "markdown",
      "source": [
        "           Performance measurement"
      ],
      "metadata": {
        "id": "GAKYxaduOfss"
      }
    },
    {
      "cell_type": "code",
      "source": [
        "from sklearn import metrics\n",
        "print('Mean Absolute Error:', metrics.mean_absolute_error(train_y, y_predicted))\n",
        "print('Mean Squared Error:', metrics.mean_squared_error(train_y, y_predicted))\n",
        "print('Root Mean Squared Error:', np.sqrt(metrics.mean_squared_error(train_y, y_predicted)))"
      ],
      "metadata": {
        "colab": {
          "base_uri": "https://localhost:8080/"
        },
        "id": "MxcQqLxYOMzX",
        "outputId": "815ae4f2-c842-4d32-d7d5-6665b8f31955"
      },
      "execution_count": null,
      "outputs": [
        {
          "output_type": "stream",
          "name": "stdout",
          "text": [
            "Mean Absolute Error: 7.530612244897958\n",
            "Mean Squared Error: 78.63265306122447\n",
            "Root Mean Squared Error: 8.867505458764853\n"
          ]
        }
      ]
    },
    {
      "cell_type": "code",
      "source": [
        "from sklearn.metrics import r2_score\n",
        "\n",
        "test_x = np.asanyarray(datafile[['Course']])\n",
        "test_y = np.asanyarray(datafile[['Marks']])\n",
        "test_y_predicted = regress.predict(test_x)\n",
        "\n",
        "print(\"Mean absolute error (MAE):\" , np.mean(np.absolute(test_y_predicted - test_y)))\n",
        "print(\"Mean square error (MSE): \" , np.mean((test_y_predicted - test_y) ** 2))\n",
        "print(\"R2-score: %.2f (RMSE):\" , r2_score(test_y, test_y_predicted) )"
      ],
      "metadata": {
        "colab": {
          "base_uri": "https://localhost:8080/"
        },
        "id": "UrsLuvLUOTTW",
        "outputId": "b327101a-cc56-4d9a-f32c-6ca3d6cf7c00"
      },
      "execution_count": null,
      "outputs": [
        {
          "output_type": "stream",
          "name": "stdout",
          "text": [
            "Mean absolute error (MAE): 7.530612244897958\n",
            "Mean square error (MSE):  78.63265306122447\n",
            "R2-score: %.2f (RMSE): 0.08566682486948285\n"
          ]
        }
      ]
    },
    {
      "cell_type": "markdown",
      "source": [
        "        Using training and testing data"
      ],
      "metadata": {
        "id": "N9m9lgyyObnx"
      }
    },
    {
      "cell_type": "code",
      "source": [
        "from sklearn.model_selection import train_test_split\n",
        "\n",
        "train_x, test_x, train_y, test_y = train_test_split(datafile[['Course']], datafile[['Marks']], test_size=0.30, random_state=42)\n",
        "print(train_x)\n",
        "print(\"Testing\")\n",
        "print(test_x)\n",
        "\n",
        "from sklearn import linear_model\n",
        "regress = linear_model.LinearRegression()\n",
        "regress.fit (train_x,train_y)\n",
        "# The coefficients\n",
        "print ('Coefficients: ', regress.coef_)\n",
        "print ('Intercept: ',regress.intercept_)"
      ],
      "metadata": {
        "colab": {
          "base_uri": "https://localhost:8080/"
        },
        "id": "mt2PlVg6OZ5v",
        "outputId": "886ab7ee-8978-4cdd-c03e-0844a8492964"
      },
      "execution_count": null,
      "outputs": [
        {
          "output_type": "stream",
          "name": "stdout",
          "text": [
            "   Course\n",
            "2       3\n",
            "4       5\n",
            "3       4\n",
            "6       7\n",
            "Testing\n",
            "   Course\n",
            "0       1\n",
            "1       2\n",
            "5       6\n",
            "Coefficients:  [[-0.17142857]]\n",
            "Intercept:  [84.31428571]\n"
          ]
        }
      ]
    },
    {
      "cell_type": "code",
      "source": [
        "y_predicted = regress.predict(test_x)\n",
        "print(test_x)\n",
        "print(test_y)\n",
        "print(y_predicted)"
      ],
      "metadata": {
        "colab": {
          "base_uri": "https://localhost:8080/"
        },
        "id": "pCPgII_gPKim",
        "outputId": "556eb298-64c8-45a5-8c19-7ac8d14b94a4"
      },
      "execution_count": null,
      "outputs": [
        {
          "output_type": "stream",
          "name": "stdout",
          "text": [
            "   Course\n",
            "0       1\n",
            "1       2\n",
            "5       6\n",
            "   Marks\n",
            "0     67\n",
            "1     89\n",
            "5     84\n",
            "[[84.14285714]\n",
            " [83.97142857]\n",
            " [83.28571429]]\n"
          ]
        }
      ]
    },
    {
      "cell_type": "code",
      "source": [
        "from sklearn import metrics\n",
        "print('Mean Absolute Error:', metrics.mean_absolute_error(test_y, y_predicted))\n",
        "print('Mean Squared Error:', metrics.mean_squared_error(test_y, y_predicted))\n",
        "print('Root Mean Squared Error:', np.sqrt(metrics.mean_squared_error(test_y, y_predicted)))"
      ],
      "metadata": {
        "colab": {
          "base_uri": "https://localhost:8080/"
        },
        "id": "aYMeBxk7PNWd",
        "outputId": "44c84cff-3c83-4c8c-d2f5-56a74927afdc"
      },
      "execution_count": null,
      "outputs": [
        {
          "output_type": "stream",
          "name": "stdout",
          "text": [
            "Mean Absolute Error: 7.628571428571429\n",
            "Mean Squared Error: 106.55809523809518\n",
            "Root Mean Squared Error: 10.32269806000811\n"
          ]
        }
      ]
    },
    {
      "cell_type": "code",
      "source": [
        "from sklearn.model_selection import cross_val_score\n",
        "accuracy = cross_val_score(regress, datafile[['Course']], datafile[['Marks']], cv = 3,scoring='r2')\n",
        "print(accuracy)"
      ],
      "metadata": {
        "colab": {
          "base_uri": "https://localhost:8080/"
        },
        "id": "v3d6l50jPRFK",
        "outputId": "d1b33b3f-3db7-4899-fffe-c4190e5912e6"
      },
      "execution_count": null,
      "outputs": [
        {
          "output_type": "stream",
          "name": "stdout",
          "text": [
            "[-10.35534794  -4.05938668 -44.008     ]\n"
          ]
        }
      ]
    },
    {
      "cell_type": "code",
      "source": [
        "import sklearn\n",
        "print(sklearn.metrics.SCORERS.keys())"
      ],
      "metadata": {
        "colab": {
          "base_uri": "https://localhost:8080/"
        },
        "id": "11Us-iFnPlWo",
        "outputId": "78fab4f1-aca0-4c7a-ec6b-6a516e288bd1"
      },
      "execution_count": null,
      "outputs": [
        {
          "output_type": "stream",
          "name": "stdout",
          "text": [
            "dict_keys(['explained_variance', 'r2', 'max_error', 'neg_median_absolute_error', 'neg_mean_absolute_error', 'neg_mean_absolute_percentage_error', 'neg_mean_squared_error', 'neg_mean_squared_log_error', 'neg_root_mean_squared_error', 'neg_mean_poisson_deviance', 'neg_mean_gamma_deviance', 'accuracy', 'top_k_accuracy', 'roc_auc', 'roc_auc_ovr', 'roc_auc_ovo', 'roc_auc_ovr_weighted', 'roc_auc_ovo_weighted', 'balanced_accuracy', 'average_precision', 'neg_log_loss', 'neg_brier_score', 'adjusted_rand_score', 'rand_score', 'homogeneity_score', 'completeness_score', 'v_measure_score', 'mutual_info_score', 'adjusted_mutual_info_score', 'normalized_mutual_info_score', 'fowlkes_mallows_score', 'precision', 'precision_macro', 'precision_micro', 'precision_samples', 'precision_weighted', 'recall', 'recall_macro', 'recall_micro', 'recall_samples', 'recall_weighted', 'f1', 'f1_macro', 'f1_micro', 'f1_samples', 'f1_weighted', 'jaccard', 'jaccard_macro', 'jaccard_micro', 'jaccard_samples', 'jaccard_weighted'])\n"
          ]
        }
      ]
    }
  ]
}