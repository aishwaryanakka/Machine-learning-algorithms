{
  "nbformat": 4,
  "nbformat_minor": 0,
  "metadata": {
    "colab": {
      "provenance": []
    },
    "kernelspec": {
      "name": "python3",
      "display_name": "Python 3"
    },
    "language_info": {
      "name": "python"
    }
  },
  "cells": [
    {
      "cell_type": "code",
      "source": [
        "import pandas as pd\n",
        "import numpy as np\n",
        "import matplotlib.pyplot as plt\n",
        "import seaborn as sns"
      ],
      "metadata": {
        "id": "r5Tlb1tujsny"
      },
      "execution_count": null,
      "outputs": []
    },
    {
      "cell_type": "code",
      "source": [
        "hcv = pd.read_csv(\"hcvdat0.csv\")"
      ],
      "metadata": {
        "id": "8OcK5I2mjwHm"
      },
      "execution_count": null,
      "outputs": []
    },
    {
      "cell_type": "code",
      "source": [
        "hcv.head()"
      ],
      "metadata": {
        "colab": {
          "base_uri": "https://localhost:8080/",
          "height": 206
        },
        "id": "JZ8a9o1xjze1",
        "outputId": "220c1c9f-d3dc-44e9-ee0c-2b0d6d020bee"
      },
      "execution_count": null,
      "outputs": [
        {
          "output_type": "execute_result",
          "data": {
            "text/plain": [
              "   Unnamed: 0       Category  Age Sex   ALB   ALP   ALT   AST   BIL    CHE  \\\n",
              "0           1  0=Blood Donor   32   m  38.5  52.5   7.7  22.1   7.5   6.93   \n",
              "1           2  0=Blood Donor   32   m  38.5  70.3  18.0  24.7   3.9  11.17   \n",
              "2           3  0=Blood Donor   32   m  46.9  74.7  36.2  52.6   6.1   8.84   \n",
              "3           4  0=Blood Donor   32   m  43.2  52.0  30.6  22.6  18.9   7.33   \n",
              "4           5  0=Blood Donor   32   m  39.2  74.1  32.6  24.8   9.6   9.15   \n",
              "\n",
              "   CHOL   CREA   GGT  PROT  \n",
              "0  3.23  106.0  12.1  69.0  \n",
              "1  4.80   74.0  15.6  76.5  \n",
              "2  5.20   86.0  33.2  79.3  \n",
              "3  4.74   80.0  33.8  75.7  \n",
              "4  4.32   76.0  29.9  68.7  "
            ],
            "text/html": [
              "\n",
              "  <div id=\"df-e15fd228-9c56-43da-9c43-ce5d409ff8ae\">\n",
              "    <div class=\"colab-df-container\">\n",
              "      <div>\n",
              "<style scoped>\n",
              "    .dataframe tbody tr th:only-of-type {\n",
              "        vertical-align: middle;\n",
              "    }\n",
              "\n",
              "    .dataframe tbody tr th {\n",
              "        vertical-align: top;\n",
              "    }\n",
              "\n",
              "    .dataframe thead th {\n",
              "        text-align: right;\n",
              "    }\n",
              "</style>\n",
              "<table border=\"1\" class=\"dataframe\">\n",
              "  <thead>\n",
              "    <tr style=\"text-align: right;\">\n",
              "      <th></th>\n",
              "      <th>Unnamed: 0</th>\n",
              "      <th>Category</th>\n",
              "      <th>Age</th>\n",
              "      <th>Sex</th>\n",
              "      <th>ALB</th>\n",
              "      <th>ALP</th>\n",
              "      <th>ALT</th>\n",
              "      <th>AST</th>\n",
              "      <th>BIL</th>\n",
              "      <th>CHE</th>\n",
              "      <th>CHOL</th>\n",
              "      <th>CREA</th>\n",
              "      <th>GGT</th>\n",
              "      <th>PROT</th>\n",
              "    </tr>\n",
              "  </thead>\n",
              "  <tbody>\n",
              "    <tr>\n",
              "      <th>0</th>\n",
              "      <td>1</td>\n",
              "      <td>0=Blood Donor</td>\n",
              "      <td>32</td>\n",
              "      <td>m</td>\n",
              "      <td>38.5</td>\n",
              "      <td>52.5</td>\n",
              "      <td>7.7</td>\n",
              "      <td>22.1</td>\n",
              "      <td>7.5</td>\n",
              "      <td>6.93</td>\n",
              "      <td>3.23</td>\n",
              "      <td>106.0</td>\n",
              "      <td>12.1</td>\n",
              "      <td>69.0</td>\n",
              "    </tr>\n",
              "    <tr>\n",
              "      <th>1</th>\n",
              "      <td>2</td>\n",
              "      <td>0=Blood Donor</td>\n",
              "      <td>32</td>\n",
              "      <td>m</td>\n",
              "      <td>38.5</td>\n",
              "      <td>70.3</td>\n",
              "      <td>18.0</td>\n",
              "      <td>24.7</td>\n",
              "      <td>3.9</td>\n",
              "      <td>11.17</td>\n",
              "      <td>4.80</td>\n",
              "      <td>74.0</td>\n",
              "      <td>15.6</td>\n",
              "      <td>76.5</td>\n",
              "    </tr>\n",
              "    <tr>\n",
              "      <th>2</th>\n",
              "      <td>3</td>\n",
              "      <td>0=Blood Donor</td>\n",
              "      <td>32</td>\n",
              "      <td>m</td>\n",
              "      <td>46.9</td>\n",
              "      <td>74.7</td>\n",
              "      <td>36.2</td>\n",
              "      <td>52.6</td>\n",
              "      <td>6.1</td>\n",
              "      <td>8.84</td>\n",
              "      <td>5.20</td>\n",
              "      <td>86.0</td>\n",
              "      <td>33.2</td>\n",
              "      <td>79.3</td>\n",
              "    </tr>\n",
              "    <tr>\n",
              "      <th>3</th>\n",
              "      <td>4</td>\n",
              "      <td>0=Blood Donor</td>\n",
              "      <td>32</td>\n",
              "      <td>m</td>\n",
              "      <td>43.2</td>\n",
              "      <td>52.0</td>\n",
              "      <td>30.6</td>\n",
              "      <td>22.6</td>\n",
              "      <td>18.9</td>\n",
              "      <td>7.33</td>\n",
              "      <td>4.74</td>\n",
              "      <td>80.0</td>\n",
              "      <td>33.8</td>\n",
              "      <td>75.7</td>\n",
              "    </tr>\n",
              "    <tr>\n",
              "      <th>4</th>\n",
              "      <td>5</td>\n",
              "      <td>0=Blood Donor</td>\n",
              "      <td>32</td>\n",
              "      <td>m</td>\n",
              "      <td>39.2</td>\n",
              "      <td>74.1</td>\n",
              "      <td>32.6</td>\n",
              "      <td>24.8</td>\n",
              "      <td>9.6</td>\n",
              "      <td>9.15</td>\n",
              "      <td>4.32</td>\n",
              "      <td>76.0</td>\n",
              "      <td>29.9</td>\n",
              "      <td>68.7</td>\n",
              "    </tr>\n",
              "  </tbody>\n",
              "</table>\n",
              "</div>\n",
              "      <button class=\"colab-df-convert\" onclick=\"convertToInteractive('df-e15fd228-9c56-43da-9c43-ce5d409ff8ae')\"\n",
              "              title=\"Convert this dataframe to an interactive table.\"\n",
              "              style=\"display:none;\">\n",
              "        \n",
              "  <svg xmlns=\"http://www.w3.org/2000/svg\" height=\"24px\"viewBox=\"0 0 24 24\"\n",
              "       width=\"24px\">\n",
              "    <path d=\"M0 0h24v24H0V0z\" fill=\"none\"/>\n",
              "    <path d=\"M18.56 5.44l.94 2.06.94-2.06 2.06-.94-2.06-.94-.94-2.06-.94 2.06-2.06.94zm-11 1L8.5 8.5l.94-2.06 2.06-.94-2.06-.94L8.5 2.5l-.94 2.06-2.06.94zm10 10l.94 2.06.94-2.06 2.06-.94-2.06-.94-.94-2.06-.94 2.06-2.06.94z\"/><path d=\"M17.41 7.96l-1.37-1.37c-.4-.4-.92-.59-1.43-.59-.52 0-1.04.2-1.43.59L10.3 9.45l-7.72 7.72c-.78.78-.78 2.05 0 2.83L4 21.41c.39.39.9.59 1.41.59.51 0 1.02-.2 1.41-.59l7.78-7.78 2.81-2.81c.8-.78.8-2.07 0-2.86zM5.41 20L4 18.59l7.72-7.72 1.47 1.35L5.41 20z\"/>\n",
              "  </svg>\n",
              "      </button>\n",
              "      \n",
              "  <style>\n",
              "    .colab-df-container {\n",
              "      display:flex;\n",
              "      flex-wrap:wrap;\n",
              "      gap: 12px;\n",
              "    }\n",
              "\n",
              "    .colab-df-convert {\n",
              "      background-color: #E8F0FE;\n",
              "      border: none;\n",
              "      border-radius: 50%;\n",
              "      cursor: pointer;\n",
              "      display: none;\n",
              "      fill: #1967D2;\n",
              "      height: 32px;\n",
              "      padding: 0 0 0 0;\n",
              "      width: 32px;\n",
              "    }\n",
              "\n",
              "    .colab-df-convert:hover {\n",
              "      background-color: #E2EBFA;\n",
              "      box-shadow: 0px 1px 2px rgba(60, 64, 67, 0.3), 0px 1px 3px 1px rgba(60, 64, 67, 0.15);\n",
              "      fill: #174EA6;\n",
              "    }\n",
              "\n",
              "    [theme=dark] .colab-df-convert {\n",
              "      background-color: #3B4455;\n",
              "      fill: #D2E3FC;\n",
              "    }\n",
              "\n",
              "    [theme=dark] .colab-df-convert:hover {\n",
              "      background-color: #434B5C;\n",
              "      box-shadow: 0px 1px 3px 1px rgba(0, 0, 0, 0.15);\n",
              "      filter: drop-shadow(0px 1px 2px rgba(0, 0, 0, 0.3));\n",
              "      fill: #FFFFFF;\n",
              "    }\n",
              "  </style>\n",
              "\n",
              "      <script>\n",
              "        const buttonEl =\n",
              "          document.querySelector('#df-e15fd228-9c56-43da-9c43-ce5d409ff8ae button.colab-df-convert');\n",
              "        buttonEl.style.display =\n",
              "          google.colab.kernel.accessAllowed ? 'block' : 'none';\n",
              "\n",
              "        async function convertToInteractive(key) {\n",
              "          const element = document.querySelector('#df-e15fd228-9c56-43da-9c43-ce5d409ff8ae');\n",
              "          const dataTable =\n",
              "            await google.colab.kernel.invokeFunction('convertToInteractive',\n",
              "                                                     [key], {});\n",
              "          if (!dataTable) return;\n",
              "\n",
              "          const docLinkHtml = 'Like what you see? Visit the ' +\n",
              "            '<a target=\"_blank\" href=https://colab.research.google.com/notebooks/data_table.ipynb>data table notebook</a>'\n",
              "            + ' to learn more about interactive tables.';\n",
              "          element.innerHTML = '';\n",
              "          dataTable['output_type'] = 'display_data';\n",
              "          await google.colab.output.renderOutput(dataTable, element);\n",
              "          const docLink = document.createElement('div');\n",
              "          docLink.innerHTML = docLinkHtml;\n",
              "          element.appendChild(docLink);\n",
              "        }\n",
              "      </script>\n",
              "    </div>\n",
              "  </div>\n",
              "  "
            ]
          },
          "metadata": {},
          "execution_count": 11
        }
      ]
    },
    {
      "cell_type": "code",
      "source": [
        "# missing values\n",
        "hcv.isnull().sum()"
      ],
      "metadata": {
        "colab": {
          "base_uri": "https://localhost:8080/"
        },
        "id": "r2RlBhTBj23T",
        "outputId": "e6faca19-1b91-453b-d7ea-a5945a8c9f87"
      },
      "execution_count": null,
      "outputs": [
        {
          "output_type": "execute_result",
          "data": {
            "text/plain": [
              "Unnamed: 0     0\n",
              "Category       0\n",
              "Age            0\n",
              "Sex            0\n",
              "ALB            1\n",
              "ALP           18\n",
              "ALT            1\n",
              "AST            0\n",
              "BIL            0\n",
              "CHE            0\n",
              "CHOL          10\n",
              "CREA           0\n",
              "GGT            0\n",
              "PROT           1\n",
              "dtype: int64"
            ]
          },
          "metadata": {},
          "execution_count": 12
        }
      ]
    },
    {
      "cell_type": "code",
      "source": [
        "hcv['Sex'].value_counts()"
      ],
      "metadata": {
        "colab": {
          "base_uri": "https://localhost:8080/"
        },
        "id": "nSZEPqDrj6Au",
        "outputId": "043d3817-f4a2-45d2-a0dc-e6b8c855957c"
      },
      "execution_count": null,
      "outputs": [
        {
          "output_type": "execute_result",
          "data": {
            "text/plain": [
              "m    377\n",
              "f    238\n",
              "Name: Sex, dtype: int64"
            ]
          },
          "metadata": {},
          "execution_count": 13
        }
      ]
    },
    {
      "cell_type": "code",
      "source": [
        "sns.countplot(x = 'Sex', data = hcv, palette='magma')"
      ],
      "metadata": {
        "colab": {
          "base_uri": "https://localhost:8080/",
          "height": 296
        },
        "id": "cjUSuhw1j8km",
        "outputId": "ac1e4c97-20d0-4b02-ceb2-56acebd8d0e3"
      },
      "execution_count": null,
      "outputs": [
        {
          "output_type": "execute_result",
          "data": {
            "text/plain": [
              "<matplotlib.axes._subplots.AxesSubplot at 0x7f75d5912d10>"
            ]
          },
          "metadata": {},
          "execution_count": 14
        },
        {
          "output_type": "display_data",
          "data": {
            "text/plain": [
              "<Figure size 432x288 with 1 Axes>"
            ],
            "image/png": "[encoded data removed]"
          },
          "metadata": {
            "needs_background": "light"
          }
        }
      ]
    },
    {
      "cell_type": "code",
      "source": [
        "plt.figure(figsize=(23,10))\n",
        "sns.countplot(x = 'ALB', data = hcv, palette='magma')"
      ],
      "metadata": {
        "colab": {
          "base_uri": "https://localhost:8080/",
          "height": 622
        },
        "id": "2yKwllQ1j_k_",
        "outputId": "da703e4e-9904-45bf-eb6f-31ffd352bd2e"
      },
      "execution_count": null,
      "outputs": [
        {
          "output_type": "execute_result",
          "data": {
            "text/plain": [
              "<matplotlib.axes._subplots.AxesSubplot at 0x7f75d5912f90>"
            ]
          },
          "metadata": {},
          "execution_count": 15
        },
        {
          "output_type": "display_data",
          "data": {
            "text/plain": [
              "<Figure size 1656x720 with 1 Axes>"
            ],
            "image/png": "[encoded data removed]"
          },
          "metadata": {
            "needs_background": "light"
          }
        }
      ]
    },
    {
      "cell_type": "code",
      "source": [
        "plt.figure(figsize=(23,10))\n",
        "sns.countplot(x = 'ALB', data = hcv ,palette='viridis')"
      ],
      "metadata": {
        "colab": {
          "base_uri": "https://localhost:8080/",
          "height": 622
        },
        "id": "x8ZTKq9FkDJS",
        "outputId": "6116582c-971c-4c13-a202-3b17188b449b"
      },
      "execution_count": null,
      "outputs": [
        {
          "output_type": "execute_result",
          "data": {
            "text/plain": [
              "<matplotlib.axes._subplots.AxesSubplot at 0x7f75d591d590>"
            ]
          },
          "metadata": {},
          "execution_count": 16
        },
        {
          "output_type": "display_data",
          "data": {
            "text/plain": [
              "<Figure size 1656x720 with 1 Axes>"
            ],
            "image/png": "[encoded data removed]"
          },
          "metadata": {
            "needs_background": "light"
          }
        }
      ]
    },
    {
      "cell_type": "code",
      "source": [
        " X = hcv.iloc[:, [4]]\n",
        " X"
      ],
      "metadata": {
        "colab": {
          "base_uri": "https://localhost:8080/",
          "height": 423
        },
        "id": "iaw5S9uKkLUR",
        "outputId": "503b81d3-bc0d-4b25-bf86-4d91fb244072"
      },
      "execution_count": null,
      "outputs": [
        {
          "output_type": "execute_result",
          "data": {
            "text/plain": [
              "      ALB\n",
              "0    38.5\n",
              "1    38.5\n",
              "2    46.9\n",
              "3    43.2\n",
              "4    39.2\n",
              "..    ...\n",
              "610  32.0\n",
              "611  24.0\n",
              "612  29.0\n",
              "613  33.0\n",
              "614  36.0\n",
              "\n",
              "[615 rows x 1 columns]"
            ],
            "text/html": [
              "\n",
              "  <div id=\"df-d05058b5-cd7d-4cc2-aa80-f2de606336b5\">\n",
              "    <div class=\"colab-df-container\">\n",
              "      <div>\n",
              "<style scoped>\n",
              "    .dataframe tbody tr th:only-of-type {\n",
              "        vertical-align: middle;\n",
              "    }\n",
              "\n",
              "    .dataframe tbody tr th {\n",
              "        vertical-align: top;\n",
              "    }\n",
              "\n",
              "    .dataframe thead th {\n",
              "        text-align: right;\n",
              "    }\n",
              "</style>\n",
              "<table border=\"1\" class=\"dataframe\">\n",
              "  <thead>\n",
              "    <tr style=\"text-align: right;\">\n",
              "      <th></th>\n",
              "      <th>ALB</th>\n",
              "    </tr>\n",
              "  </thead>\n",
              "  <tbody>\n",
              "    <tr>\n",
              "      <th>0</th>\n",
              "      <td>38.5</td>\n",
              "    </tr>\n",
              "    <tr>\n",
              "      <th>1</th>\n",
              "      <td>38.5</td>\n",
              "    </tr>\n",
              "    <tr>\n",
              "      <th>2</th>\n",
              "      <td>46.9</td>\n",
              "    </tr>\n",
              "    <tr>\n",
              "      <th>3</th>\n",
              "      <td>43.2</td>\n",
              "    </tr>\n",
              "    <tr>\n",
              "      <th>4</th>\n",
              "      <td>39.2</td>\n",
              "    </tr>\n",
              "    <tr>\n",
              "      <th>...</th>\n",
              "      <td>...</td>\n",
              "    </tr>\n",
              "    <tr>\n",
              "      <th>610</th>\n",
              "      <td>32.0</td>\n",
              "    </tr>\n",
              "    <tr>\n",
              "      <th>611</th>\n",
              "      <td>24.0</td>\n",
              "    </tr>\n",
              "    <tr>\n",
              "      <th>612</th>\n",
              "      <td>29.0</td>\n",
              "    </tr>\n",
              "    <tr>\n",
              "      <th>613</th>\n",
              "      <td>33.0</td>\n",
              "    </tr>\n",
              "    <tr>\n",
              "      <th>614</th>\n",
              "      <td>36.0</td>\n",
              "    </tr>\n",
              "  </tbody>\n",
              "</table>\n",
              "<p>615 rows × 1 columns</p>\n",
              "</div>\n",
              "      <button class=\"colab-df-convert\" onclick=\"convertToInteractive('df-d05058b5-cd7d-4cc2-aa80-f2de606336b5')\"\n",
              "              title=\"Convert this dataframe to an interactive table.\"\n",
              "              style=\"display:none;\">\n",
              "        \n",
              "  <svg xmlns=\"http://www.w3.org/2000/svg\" height=\"24px\"viewBox=\"0 0 24 24\"\n",
              "       width=\"24px\">\n",
              "    <path d=\"M0 0h24v24H0V0z\" fill=\"none\"/>\n",
              "    <path d=\"M18.56 5.44l.94 2.06.94-2.06 2.06-.94-2.06-.94-.94-2.06-.94 2.06-2.06.94zm-11 1L8.5 8.5l.94-2.06 2.06-.94-2.06-.94L8.5 2.5l-.94 2.06-2.06.94zm10 10l.94 2.06.94-2.06 2.06-.94-2.06-.94-.94-2.06-.94 2.06-2.06.94z\"/><path d=\"M17.41 7.96l-1.37-1.37c-.4-.4-.92-.59-1.43-.59-.52 0-1.04.2-1.43.59L10.3 9.45l-7.72 7.72c-.78.78-.78 2.05 0 2.83L4 21.41c.39.39.9.59 1.41.59.51 0 1.02-.2 1.41-.59l7.78-7.78 2.81-2.81c.8-.78.8-2.07 0-2.86zM5.41 20L4 18.59l7.72-7.72 1.47 1.35L5.41 20z\"/>\n",
              "  </svg>\n",
              "      </button>\n",
              "      \n",
              "  <style>\n",
              "    .colab-df-container {\n",
              "      display:flex;\n",
              "      flex-wrap:wrap;\n",
              "      gap: 12px;\n",
              "    }\n",
              "\n",
              "    .colab-df-convert {\n",
              "      background-color: #E8F0FE;\n",
              "      border: none;\n",
              "      border-radius: 50%;\n",
              "      cursor: pointer;\n",
              "      display: none;\n",
              "      fill: #1967D2;\n",
              "      height: 32px;\n",
              "      padding: 0 0 0 0;\n",
              "      width: 32px;\n",
              "    }\n",
              "\n",
              "    .colab-df-convert:hover {\n",
              "      background-color: #E2EBFA;\n",
              "      box-shadow: 0px 1px 2px rgba(60, 64, 67, 0.3), 0px 1px 3px 1px rgba(60, 64, 67, 0.15);\n",
              "      fill: #174EA6;\n",
              "    }\n",
              "\n",
              "    [theme=dark] .colab-df-convert {\n",
              "      background-color: #3B4455;\n",
              "      fill: #D2E3FC;\n",
              "    }\n",
              "\n",
              "    [theme=dark] .colab-df-convert:hover {\n",
              "      background-color: #434B5C;\n",
              "      box-shadow: 0px 1px 3px 1px rgba(0, 0, 0, 0.15);\n",
              "      filter: drop-shadow(0px 1px 2px rgba(0, 0, 0, 0.3));\n",
              "      fill: #FFFFFF;\n",
              "    }\n",
              "  </style>\n",
              "\n",
              "      <script>\n",
              "        const buttonEl =\n",
              "          document.querySelector('#df-d05058b5-cd7d-4cc2-aa80-f2de606336b5 button.colab-df-convert');\n",
              "        buttonEl.style.display =\n",
              "          google.colab.kernel.accessAllowed ? 'block' : 'none';\n",
              "\n",
              "        async function convertToInteractive(key) {\n",
              "          const element = document.querySelector('#df-d05058b5-cd7d-4cc2-aa80-f2de606336b5');\n",
              "          const dataTable =\n",
              "            await google.colab.kernel.invokeFunction('convertToInteractive',\n",
              "                                                     [key], {});\n",
              "          if (!dataTable) return;\n",
              "\n",
              "          const docLinkHtml = 'Like what you see? Visit the ' +\n",
              "            '<a target=\"_blank\" href=https://colab.research.google.com/notebooks/data_table.ipynb>data table notebook</a>'\n",
              "            + ' to learn more about interactive tables.';\n",
              "          element.innerHTML = '';\n",
              "          dataTable['output_type'] = 'display_data';\n",
              "          await google.colab.output.renderOutput(dataTable, element);\n",
              "          const docLink = document.createElement('div');\n",
              "          docLink.innerHTML = docLinkHtml;\n",
              "          element.appendChild(docLink);\n",
              "        }\n",
              "      </script>\n",
              "    </div>\n",
              "  </div>\n",
              "  "
            ]
          },
          "metadata": {},
          "execution_count": 32
        }
      ]
    },
    {
      "cell_type": "code",
      "source": [
        "from sklearn.cluster import KMeans"
      ],
      "metadata": {
        "id": "dNo4yF6CoSvw"
      },
      "execution_count": null,
      "outputs": []
    },
    {
      "cell_type": "code",
      "source": [
        "hcv.replace([np.inf, -np.inf], np.nan, inplace=True)\n",
        "hcv.fillna(999, inplace=True)"
      ],
      "metadata": {
        "id": "2UzWxgMuxRSs"
      },
      "execution_count": null,
      "outputs": []
    },
    {
      "cell_type": "code",
      "source": [
        "# Use elbow method to find optimum number of cluster i.e. value of 'K'\n",
        "wcss = []\n",
        "for i in range(1, 16):\n",
        " kmeans = KMeans(n_clusters=i, init='k-means++', max_iter=300, n_init=10,random_state=0)\n",
        " kmeans.fit(X)\n",
        " wcss.append(kmeans.inertia_)"
      ],
      "metadata": {
        "id": "9BaZfVtUon-f"
      },
      "execution_count": null,
      "outputs": []
    },
    {
      "cell_type": "code",
      "source": [
        "wcss"
      ],
      "metadata": {
        "colab": {
          "base_uri": "https://localhost:8080/"
        },
        "id": "0DxbwalJoo5H",
        "outputId": "4379466c-38dd-44e1-dbaf-4d8a53ee26ee"
      },
      "execution_count": null,
      "outputs": [
        {
          "output_type": "execute_result",
          "data": {
            "text/plain": [
              "[935569.5321300814,\n",
              " 20483.80957654724,\n",
              " 9852.956933927486,\n",
              " 5735.844781143538,\n",
              " 4063.0372793376255,\n",
              " 2649.0046586022054,\n",
              " 1940.2033080737115,\n",
              " 1445.9418571285541,\n",
              " 1118.6159587773338,\n",
              " 824.3811033170164,\n",
              " 661.5842037239548,\n",
              " 544.6110611267998,\n",
              " 425.3258619504686,\n",
              " 342.01924760015584,\n",
              " 292.94497061167283]"
            ]
          },
          "metadata": {},
          "execution_count": 34
        }
      ]
    },
    {
      "cell_type": "code",
      "source": [
        " # Plot visualization b/w WCSS and Number of Clusters(K)\n",
        "plt.figure(figsize=(12,8))\n",
        "plt.plot(range(1,16), wcss)\n",
        "# to view the points clearly we add scatter plot in addition to line\n",
        "plt.scatter(range(1,16), wcss, c = 'black', marker='o')\n",
        "plt.xlabel(\"K - Number of Clusters\")\n",
        "plt.ylabel(\"WCSS\")\n",
        "plt.show()"
      ],
      "metadata": {
        "colab": {
          "base_uri": "https://localhost:8080/",
          "height": 496
        },
        "id": "mSQdMQVCpGIX",
        "outputId": "723eefb2-4986-43d1-bb0a-c0585fa6d5ba"
      },
      "execution_count": null,
      "outputs": [
        {
          "output_type": "display_data",
          "data": {
            "text/plain": [
              "<Figure size 864x576 with 1 Axes>"
            ],
            "image/png": "[encoded data removed]"
          },
          "metadata": {
            "needs_background": "light"
          }
        }
      ]
    },
    {
      "cell_type": "code",
      "source": [
        "kmeans = KMeans(n_clusters = 5, init = 'random', max_iter= 300, n_init=10,random_state=0)\n"
      ],
      "metadata": {
        "id": "fxwWb4mSpTKw"
      },
      "execution_count": null,
      "outputs": []
    },
    {
      "cell_type": "code",
      "source": [
        "kmeans.fit(X)\n"
      ],
      "metadata": {
        "colab": {
          "base_uri": "https://localhost:8080/"
        },
        "id": "lLDWt7AIpZRb",
        "outputId": "11ba017a-497e-4add-c65d-4a673ffbc952"
      },
      "execution_count": null,
      "outputs": [
        {
          "output_type": "execute_result",
          "data": {
            "text/plain": [
              "KMeans(init='random', n_clusters=5, random_state=0)"
            ]
          },
          "metadata": {},
          "execution_count": 37
        }
      ]
    },
    {
      "cell_type": "code",
      "source": [
        " y_clusters = kmeans.predict(X)\n",
        "y_clusters"
      ],
      "metadata": {
        "colab": {
          "base_uri": "https://localhost:8080/"
        },
        "id": "JyimvrMyxlDt",
        "outputId": "6d8a2c72-a337-407b-8a1c-08ef0e647f58"
      },
      "execution_count": null,
      "outputs": [
        {
          "output_type": "execute_result",
          "data": {
            "text/plain": [
              "array([1, 1, 0, 4, 1, 4, 0, 4, 0, 4, 4, 0, 1, 1, 1, 4, 4, 4, 1, 4, 4, 0,\n",
              "       4, 4, 4, 4, 4, 2, 4, 0, 4, 0, 4, 1, 4, 4, 4, 0, 0, 4, 0, 0, 2, 0,\n",
              "       0, 4, 0, 0, 0, 0, 4, 4, 0, 2, 4, 4, 4, 0, 4, 1, 0, 4, 0, 0, 1, 4,\n",
              "       4, 4, 0, 0, 0, 1, 0, 4, 4, 4, 4, 0, 1, 4, 4, 1, 0, 1, 4, 4, 1, 0,\n",
              "       1, 0, 0, 0, 0, 4, 4, 4, 1, 4, 0, 0, 4, 1, 4, 0, 4, 0, 4, 1, 4, 4,\n",
              "       1, 0, 0, 1, 0, 1, 0, 1, 1, 0, 1, 0, 4, 1, 4, 4, 4, 4, 4, 1, 4, 1,\n",
              "       1, 4, 0, 4, 0, 4, 4, 0, 1, 4, 4, 4, 0, 4, 0, 4, 1, 1, 1, 4, 0, 4,\n",
              "       0, 4, 0, 0, 1, 0, 0, 4, 4, 0, 4, 0, 4, 4, 0, 0, 4, 1, 0, 0, 4, 0,\n",
              "       1, 4, 4, 1, 4, 0, 0, 4, 0, 0, 1, 1, 4, 4, 4, 4, 4, 0, 1, 0, 4, 0,\n",
              "       4, 1, 1, 4, 4, 4, 1, 4, 1, 1, 0, 4, 4, 0, 0, 0, 4, 4, 0, 1, 0, 4,\n",
              "       1, 4, 4, 0, 4, 4, 4, 1, 4, 0, 1, 4, 4, 4, 1, 0, 0, 0, 4, 0, 4, 4,\n",
              "       4, 1, 4, 1, 0, 0, 2, 4, 4, 1, 1, 4, 1, 4, 4, 0, 0, 0, 4, 4, 0, 4,\n",
              "       0, 4, 4, 0, 4, 4, 1, 1, 0, 4, 1, 4, 0, 4, 4, 4, 4, 0, 4, 1, 4, 1,\n",
              "       4, 0, 1, 4, 1, 4, 4, 0, 1, 1, 4, 4, 4, 1, 4, 1, 4, 0, 4, 1, 4, 4,\n",
              "       4, 1, 4, 1, 2, 4, 1, 2, 1, 0, 1, 0, 4, 4, 1, 1, 4, 1, 4, 1, 0, 4,\n",
              "       0, 1, 1, 4, 4, 1, 4, 1, 1, 0, 0, 1, 4, 4, 4, 0, 0, 4, 1, 0, 0, 4,\n",
              "       0, 1, 1, 4, 1, 4, 4, 1, 0, 0, 4, 4, 1, 2, 0, 4, 4, 4, 4, 1, 4, 4,\n",
              "       1, 0, 1, 4, 1, 1, 4, 4, 1, 1, 1, 4, 1, 0, 1, 0, 1, 4, 0, 1, 4, 1,\n",
              "       1, 1, 1, 1, 4, 4, 0, 1, 1, 0, 0, 1, 1, 1, 1, 1, 1, 4, 4, 4, 1, 1,\n",
              "       0, 1, 1, 1, 1, 4, 0, 1, 1, 2, 0, 4, 1, 1, 4, 0, 4, 4, 4, 1, 1, 4,\n",
              "       1, 1, 4, 1, 0, 4, 1, 0, 4, 1, 4, 1, 0, 1, 1, 1, 1, 4, 4, 4, 0, 1,\n",
              "       0, 4, 0, 4, 1, 4, 4, 0, 1, 4, 1, 4, 1, 1, 4, 4, 4, 1, 0, 0, 1, 2,\n",
              "       4, 1, 4, 4, 1, 1, 1, 1, 1, 1, 1, 1, 4, 1, 0, 4, 4, 1, 2, 1, 1, 0,\n",
              "       4, 4, 1, 2, 0, 4, 4, 1, 4, 1, 0, 1, 0, 4, 1, 4, 1, 1, 4, 0, 1, 2,\n",
              "       1, 4, 1, 4, 1, 2, 2, 2, 0, 2, 2, 2, 4, 4, 0, 4, 4, 0, 4, 4, 4, 0,\n",
              "       0, 4, 4, 4, 0, 0, 4, 4, 1, 4, 4, 1, 1, 0, 4, 1, 4, 0, 1, 0, 4, 0,\n",
              "       4, 0, 4, 1, 1, 0, 1, 4, 4, 1, 1, 1, 1, 4, 1, 2, 1, 2, 2, 1, 4, 1,\n",
              "       1, 2, 2, 2, 2, 1, 2, 2, 1, 3, 2, 1, 1, 1, 1, 1, 2, 2, 2, 1, 1],\n",
              "      dtype=int32)"
            ]
          },
          "metadata": {},
          "execution_count": 38
        }
      ]
    },
    {
      "cell_type": "code",
      "source": [
        "from sklearn.metrics import silhouette_score\n",
        "silhouette_avg = silhouette_score(X, y_clusters)\n",
        "silhouette_avg"
      ],
      "metadata": {
        "colab": {
          "base_uri": "https://localhost:8080/"
        },
        "id": "9X5CkT1uxxkH",
        "outputId": "0b990490-2e65-4d55-bd26-05d713e1939a"
      },
      "execution_count": null,
      "outputs": [
        {
          "output_type": "execute_result",
          "data": {
            "text/plain": [
              "0.5049729523348906"
            ]
          },
          "metadata": {},
          "execution_count": 39
        }
      ]
    },
    {
      "cell_type": "code",
      "source": [
        "kmeans = KMeans(n_clusters = 5, init = 'k-means++', max_iter= 300, n_init=10,random_state=0)"
      ],
      "metadata": {
        "id": "U7-12KGOx0zQ"
      },
      "execution_count": null,
      "outputs": []
    },
    {
      "cell_type": "code",
      "source": [
        "kmeans.fit(X)"
      ],
      "metadata": {
        "colab": {
          "base_uri": "https://localhost:8080/"
        },
        "id": "RX2zuCDHx5Dv",
        "outputId": "bace5822-823f-4418-e8af-fe038fe8261e"
      },
      "execution_count": null,
      "outputs": [
        {
          "output_type": "execute_result",
          "data": {
            "text/plain": [
              "KMeans(n_clusters=5, random_state=0)"
            ]
          },
          "metadata": {},
          "execution_count": 41
        }
      ]
    },
    {
      "cell_type": "code",
      "source": [
        "y_clusters = kmeans.predict(X)\n",
        "y_clusters"
      ],
      "metadata": {
        "colab": {
          "base_uri": "https://localhost:8080/"
        },
        "id": "b0B6q_cUx7lp",
        "outputId": "bef3a6af-069a-466e-beef-b76bf8616e65"
      },
      "execution_count": null,
      "outputs": [
        {
          "output_type": "execute_result",
          "data": {
            "text/plain": [
              "array([2, 2, 3, 0, 2, 0, 3, 0, 3, 0, 0, 3, 2, 2, 2, 0, 0, 0, 2, 0, 0, 3,\n",
              "       0, 0, 0, 0, 0, 4, 0, 3, 0, 3, 0, 2, 0, 0, 0, 3, 3, 0, 3, 3, 4, 3,\n",
              "       3, 0, 3, 3, 3, 3, 0, 0, 3, 4, 0, 0, 0, 3, 0, 2, 3, 0, 3, 3, 2, 0,\n",
              "       0, 0, 3, 3, 3, 0, 3, 0, 0, 0, 0, 3, 2, 0, 0, 2, 3, 2, 0, 0, 2, 3,\n",
              "       2, 3, 3, 3, 3, 0, 0, 0, 2, 0, 3, 3, 0, 2, 0, 3, 0, 3, 0, 2, 3, 0,\n",
              "       2, 3, 3, 2, 3, 2, 3, 2, 2, 3, 2, 3, 0, 2, 0, 0, 0, 0, 0, 2, 0, 2,\n",
              "       2, 0, 3, 0, 3, 0, 0, 3, 2, 0, 0, 0, 3, 0, 3, 0, 2, 2, 2, 0, 3, 0,\n",
              "       3, 0, 3, 3, 2, 3, 3, 0, 0, 3, 0, 3, 0, 0, 3, 3, 3, 2, 3, 3, 0, 3,\n",
              "       2, 0, 0, 2, 0, 3, 3, 0, 3, 3, 2, 2, 0, 0, 0, 0, 0, 3, 0, 3, 0, 3,\n",
              "       0, 2, 2, 0, 0, 0, 2, 0, 2, 2, 3, 0, 0, 3, 3, 3, 0, 0, 3, 2, 3, 0,\n",
              "       2, 0, 0, 3, 0, 0, 3, 2, 0, 3, 2, 0, 0, 0, 2, 3, 3, 3, 0, 3, 0, 0,\n",
              "       0, 2, 0, 0, 3, 3, 4, 0, 0, 0, 2, 0, 2, 0, 0, 3, 3, 3, 0, 0, 3, 0,\n",
              "       3, 0, 0, 3, 3, 0, 2, 2, 3, 0, 2, 0, 3, 0, 0, 0, 0, 3, 0, 2, 0, 2,\n",
              "       0, 3, 2, 0, 2, 3, 0, 3, 0, 2, 0, 0, 0, 2, 0, 2, 0, 3, 0, 2, 0, 0,\n",
              "       0, 2, 0, 2, 4, 0, 2, 4, 2, 3, 0, 3, 0, 0, 2, 2, 0, 2, 0, 2, 3, 0,\n",
              "       3, 2, 2, 0, 0, 2, 0, 2, 2, 3, 3, 2, 0, 0, 0, 3, 3, 0, 2, 3, 3, 0,\n",
              "       3, 2, 0, 0, 2, 0, 0, 0, 3, 3, 0, 0, 0, 4, 3, 0, 0, 0, 0, 0, 0, 0,\n",
              "       2, 3, 2, 0, 2, 2, 0, 0, 2, 2, 2, 0, 2, 3, 2, 3, 2, 0, 3, 2, 0, 2,\n",
              "       2, 2, 2, 2, 0, 0, 3, 2, 2, 3, 3, 2, 2, 0, 2, 0, 0, 0, 0, 0, 2, 2,\n",
              "       3, 2, 2, 2, 2, 0, 3, 2, 2, 2, 3, 3, 2, 2, 0, 3, 0, 0, 0, 2, 2, 0,\n",
              "       2, 2, 0, 2, 3, 0, 2, 3, 0, 0, 0, 2, 3, 2, 2, 2, 2, 0, 0, 0, 3, 2,\n",
              "       3, 0, 3, 0, 2, 0, 0, 3, 2, 0, 2, 0, 2, 0, 0, 0, 0, 2, 3, 3, 0, 4,\n",
              "       0, 0, 0, 0, 2, 2, 0, 2, 2, 2, 2, 2, 0, 0, 3, 0, 0, 2, 4, 2, 2, 3,\n",
              "       0, 0, 2, 4, 3, 0, 0, 0, 0, 2, 3, 0, 3, 0, 2, 0, 2, 2, 0, 3, 2, 4,\n",
              "       2, 0, 2, 0, 0, 4, 4, 4, 3, 4, 4, 4, 0, 0, 3, 0, 0, 3, 0, 0, 0, 3,\n",
              "       3, 0, 0, 0, 3, 3, 0, 0, 2, 0, 0, 2, 0, 3, 0, 2, 0, 3, 2, 3, 0, 3,\n",
              "       0, 3, 0, 2, 2, 3, 0, 0, 0, 2, 2, 2, 2, 0, 2, 4, 2, 4, 4, 2, 0, 2,\n",
              "       2, 4, 4, 4, 4, 2, 4, 4, 2, 1, 4, 2, 2, 2, 2, 2, 2, 4, 4, 2, 2],\n",
              "      dtype=int32)"
            ]
          },
          "metadata": {},
          "execution_count": 42
        }
      ]
    },
    {
      "cell_type": "code",
      "source": [
        "from sklearn.metrics import silhouette_score\n",
        "silhouette_avg = silhouette_score(X, y_clusters)\n",
        "silhouette_avg"
      ],
      "metadata": {
        "colab": {
          "base_uri": "https://localhost:8080/"
        },
        "id": "EXbz6PYhx9xG",
        "outputId": "7671aa7d-84fa-43bf-bdc2-f73f37c41d5f"
      },
      "execution_count": null,
      "outputs": [
        {
          "output_type": "execute_result",
          "data": {
            "text/plain": [
              "0.5011917086389529"
            ]
          },
          "metadata": {},
          "execution_count": 43
        }
      ]
    },
    {
      "cell_type": "code",
      "source": [
        "# Centroids\n",
        "kmeans.cluster_centers_"
      ],
      "metadata": {
        "colab": {
          "base_uri": "https://localhost:8080/"
        },
        "id": "507mEpPAyEAw",
        "outputId": "431e53ca-36af-4229-f31c-b62f9951fd1b"
      },
      "execution_count": null,
      "outputs": [
        {
          "output_type": "execute_result",
          "data": {
            "text/plain": [
              "array([[ 42.44176245],\n",
              "       [999.        ],\n",
              "       [ 37.29122807],\n",
              "       [ 47.97320261],\n",
              "       [ 26.23448276]])"
            ]
          },
          "metadata": {},
          "execution_count": 45
        }
      ]
    },
    {
      "cell_type": "code",
      "source": [
        "y_clusters.astype"
      ],
      "metadata": {
        "colab": {
          "base_uri": "https://localhost:8080/"
        },
        "id": "pJctTke9yJNt",
        "outputId": "7d628aa9-6efc-4612-bb66-76b66f98bb01"
      },
      "execution_count": null,
      "outputs": [
        {
          "output_type": "execute_result",
          "data": {
            "text/plain": [
              "<function ndarray.astype>"
            ]
          },
          "metadata": {},
          "execution_count": 46
        }
      ]
    },
    {
      "cell_type": "code",
      "source": [
        "x_array = np.array(X)\n",
        "x_array"
      ],
      "metadata": {
        "colab": {
          "base_uri": "https://localhost:8080/"
        },
        "id": "6CXMpgyRyNh4",
        "outputId": "329cc5a1-eb47-43eb-e227-d8ccbe7856b8"
      },
      "execution_count": null,
      "outputs": [
        {
          "output_type": "execute_result",
          "data": {
            "text/plain": [
              "array([[ 38.5],\n",
              "       [ 38.5],\n",
              "       [ 46.9],\n",
              "       [ 43.2],\n",
              "       [ 39.2],\n",
              "       [ 41.6],\n",
              "       [ 46.3],\n",
              "       [ 42.2],\n",
              "       [ 50.9],\n",
              "       [ 42.4],\n",
              "       [ 44.3],\n",
              "       [ 46.4],\n",
              "       [ 36.3],\n",
              "       [ 39. ],\n",
              "       [ 38.7],\n",
              "       [ 41.8],\n",
              "       [ 40.9],\n",
              "       [ 45.2],\n",
              "       [ 36.6],\n",
              "       [ 42. ],\n",
              "       [ 44.3],\n",
              "       [ 46.7],\n",
              "       [ 42.7],\n",
              "       [ 43.4],\n",
              "       [ 40.5],\n",
              "       [ 44.8],\n",
              "       [ 42.6],\n",
              "       [ 29. ],\n",
              "       [ 44.6],\n",
              "       [ 46.8],\n",
              "       [ 41.8],\n",
              "       [ 46.1],\n",
              "       [ 43.6],\n",
              "       [ 37.5],\n",
              "       [ 42.1],\n",
              "       [ 44.7],\n",
              "       [ 41.5],\n",
              "       [ 48.7],\n",
              "       [ 47.3],\n",
              "       [ 44.5],\n",
              "       [ 47.4],\n",
              "       [ 51. ],\n",
              "       [ 27.8],\n",
              "       [ 46.1],\n",
              "       [ 45.5],\n",
              "       [ 41.7],\n",
              "       [ 45.9],\n",
              "       [ 48.7],\n",
              "       [ 53. ],\n",
              "       [ 47.8],\n",
              "       [ 42.6],\n",
              "       [ 42.4],\n",
              "       [ 48.9],\n",
              "       [ 31.4],\n",
              "       [ 42.9],\n",
              "       [ 44. ],\n",
              "       [ 41.5],\n",
              "       [ 47.9],\n",
              "       [ 44.8],\n",
              "       [ 38.6],\n",
              "       [ 51.2],\n",
              "       [ 41.9],\n",
              "       [ 46.1],\n",
              "       [ 50.4],\n",
              "       [ 33.9],\n",
              "       [ 42.9],\n",
              "       [ 40.8],\n",
              "       [ 43.6],\n",
              "       [ 46.4],\n",
              "       [ 48.7],\n",
              "       [ 48.1],\n",
              "       [ 39.9],\n",
              "       [ 45.5],\n",
              "       [ 43.4],\n",
              "       [ 41.2],\n",
              "       [ 44.7],\n",
              "       [ 42. ],\n",
              "       [ 48.4],\n",
              "       [ 38.3],\n",
              "       [ 40.5],\n",
              "       [ 45.1],\n",
              "       [ 38.8],\n",
              "       [ 47. ],\n",
              "       [ 36.6],\n",
              "       [ 43.9],\n",
              "       [ 43.4],\n",
              "       [ 36. ],\n",
              "       [ 45.7],\n",
              "       [ 37.5],\n",
              "       [ 46.4],\n",
              "       [ 45.8],\n",
              "       [ 46.1],\n",
              "       [ 47.8],\n",
              "       [ 44.5],\n",
              "       [ 41.4],\n",
              "       [ 45. ],\n",
              "       [ 39.1],\n",
              "       [ 45.1],\n",
              "       [ 45.4],\n",
              "       [ 46.9],\n",
              "       [ 45.1],\n",
              "       [ 38.5],\n",
              "       [ 42.3],\n",
              "       [ 46.9],\n",
              "       [ 40.2],\n",
              "       [ 53.3],\n",
              "       [ 44.7],\n",
              "       [ 37.4],\n",
              "       [ 45.3],\n",
              "       [ 44.1],\n",
              "       [ 37.8],\n",
              "       [ 46.3],\n",
              "       [ 46.4],\n",
              "       [ 38.1],\n",
              "       [ 46.9],\n",
              "       [ 37.8],\n",
              "       [ 46.2],\n",
              "       [ 37. ],\n",
              "       [ 39.7],\n",
              "       [ 54.4],\n",
              "       [ 36.3],\n",
              "       [ 48.6],\n",
              "       [ 42.9],\n",
              "       [ 39.4],\n",
              "       [ 41.5],\n",
              "       [ 42.8],\n",
              "       [ 43.9],\n",
              "       [ 41.2],\n",
              "       [ 44.4],\n",
              "       [ 38.4],\n",
              "       [ 44.5],\n",
              "       [ 37.4],\n",
              "       [ 35.5],\n",
              "       [ 44. ],\n",
              "       [ 48.6],\n",
              "       [ 40.8],\n",
              "       [ 47.3],\n",
              "       [ 44.6],\n",
              "       [ 41.4],\n",
              "       [ 46.5],\n",
              "       [ 36.2],\n",
              "       [ 41.7],\n",
              "       [ 43.2],\n",
              "       [ 40.3],\n",
              "       [ 46.4],\n",
              "       [ 44.3],\n",
              "       [ 45.7],\n",
              "       [ 42.6],\n",
              "       [ 35.7],\n",
              "       [ 39.7],\n",
              "       [ 37.9],\n",
              "       [ 41.8],\n",
              "       [ 47.7],\n",
              "       [ 44.8],\n",
              "       [ 49.1],\n",
              "       [ 43. ],\n",
              "       [ 45.9],\n",
              "       [ 49.7],\n",
              "       [ 37.3],\n",
              "       [ 47.4],\n",
              "       [ 51.8],\n",
              "       [ 44.7],\n",
              "       [ 41.6],\n",
              "       [ 49.5],\n",
              "       [ 40.8],\n",
              "       [ 48. ],\n",
              "       [ 42.1],\n",
              "       [ 42.2],\n",
              "       [ 48.3],\n",
              "       [ 46.2],\n",
              "       [ 45.3],\n",
              "       [ 36.7],\n",
              "       [ 48. ],\n",
              "       [ 55.4],\n",
              "       [ 42.5],\n",
              "       [ 46.2],\n",
              "       [ 38.2],\n",
              "       [ 43.1],\n",
              "       [ 44.7],\n",
              "       [ 38.8],\n",
              "       [ 43.4],\n",
              "       [ 46. ],\n",
              "       [ 45.7],\n",
              "       [ 42.6],\n",
              "       [ 46.4],\n",
              "       [ 50.4],\n",
              "       [ 39.1],\n",
              "       [ 39.7],\n",
              "       [ 41.2],\n",
              "       [ 44.7],\n",
              "       [ 44.4],\n",
              "       [ 40.2],\n",
              "       [ 44.3],\n",
              "       [ 47.8],\n",
              "       [ 40. ],\n",
              "       [ 46.6],\n",
              "       [ 44.3],\n",
              "       [ 45.7],\n",
              "       [ 43.5],\n",
              "       [ 36. ],\n",
              "       [ 35.5],\n",
              "       [ 40.3],\n",
              "       [ 43.8],\n",
              "       [ 43.1],\n",
              "       [ 39.7],\n",
              "       [ 42.2],\n",
              "       [ 38. ],\n",
              "       [ 36.8],\n",
              "       [ 47.2],\n",
              "       [ 42.6],\n",
              "       [ 42. ],\n",
              "       [ 45.9],\n",
              "       [ 50.8],\n",
              "       [ 46.3],\n",
              "       [ 42.3],\n",
              "       [ 42.2],\n",
              "       [ 82.2],\n",
              "       [ 39.3],\n",
              "       [ 46.8],\n",
              "       [ 44.7],\n",
              "       [ 37.2],\n",
              "       [ 40.7],\n",
              "       [ 41.2],\n",
              "       [ 46.6],\n",
              "       [ 41. ],\n",
              "       [ 41.6],\n",
              "       [ 45.3],\n",
              "       [ 38.7],\n",
              "       [ 44.5],\n",
              "       [ 49. ],\n",
              "       [ 37.8],\n",
              "       [ 44.8],\n",
              "       [ 40.5],\n",
              "       [ 41.7],\n",
              "       [ 38.1],\n",
              "       [ 49.2],\n",
              "       [ 46.9],\n",
              "       [ 46. ],\n",
              "       [ 43. ],\n",
              "       [ 46.4],\n",
              "       [ 40.8],\n",
              "       [ 41.6],\n",
              "       [ 44.1],\n",
              "       [ 39. ],\n",
              "       [ 42.9],\n",
              "       [ 40. ],\n",
              "       [ 46.2],\n",
              "       [ 47.6],\n",
              "       [ 28.1],\n",
              "       [ 44.7],\n",
              "       [ 41.5],\n",
              "       [ 39.9],\n",
              "       [ 39.4],\n",
              "       [ 42.9],\n",
              "       [ 37.9],\n",
              "       [ 42.1],\n",
              "       [ 40.2],\n",
              "       [ 49.5],\n",
              "       [ 45.7],\n",
              "       [ 59.7],\n",
              "       [ 43.5],\n",
              "       [ 43.3],\n",
              "       [ 46.4],\n",
              "       [ 44. ],\n",
              "       [ 46.8],\n",
              "       [ 41.3],\n",
              "       [ 40.9],\n",
              "       [ 45.7],\n",
              "       [ 45.3],\n",
              "       [ 41.9],\n",
              "       [ 39.8],\n",
              "       [ 38.4],\n",
              "       [ 48.9],\n",
              "       [ 43.8],\n",
              "       [ 37.8],\n",
              "       [ 42.2],\n",
              "       [ 46.3],\n",
              "       [ 40.4],\n",
              "       [ 43.4],\n",
              "       [ 41.1],\n",
              "       [ 45.2],\n",
              "       [ 45.9],\n",
              "       [ 43.4],\n",
              "       [ 34.3],\n",
              "       [ 44.8],\n",
              "       [ 38.9],\n",
              "       [ 42.1],\n",
              "       [ 46.6],\n",
              "       [ 39.6],\n",
              "       [ 44.7],\n",
              "       [ 39.5],\n",
              "       [ 45.3],\n",
              "       [ 40.8],\n",
              "       [ 46. ],\n",
              "       [ 40.1],\n",
              "       [ 35.1],\n",
              "       [ 44.5],\n",
              "       [ 41. ],\n",
              "       [ 43.1],\n",
              "       [ 34.8],\n",
              "       [ 44.7],\n",
              "       [ 39.1],\n",
              "       [ 43.6],\n",
              "       [ 48.4],\n",
              "       [ 40.6],\n",
              "       [ 32.6],\n",
              "       [ 41. ],\n",
              "       [ 44.8],\n",
              "       [ 44.4],\n",
              "       [ 38.7],\n",
              "       [ 42.9],\n",
              "       [ 39.3],\n",
              "       [ 27.8],\n",
              "       [ 41. ],\n",
              "       [ 39. ],\n",
              "       [ 29.2],\n",
              "       [ 38. ],\n",
              "       [ 52.2],\n",
              "       [ 39.9],\n",
              "       [ 47.4],\n",
              "       [ 41.1],\n",
              "       [ 43.5],\n",
              "       [ 36. ],\n",
              "       [ 36.9],\n",
              "       [ 44.3],\n",
              "       [ 38.1],\n",
              "       [ 41. ],\n",
              "       [ 38.2],\n",
              "       [ 47.6],\n",
              "       [ 42.4],\n",
              "       [ 45.9],\n",
              "       [ 35.4],\n",
              "       [ 38.5],\n",
              "       [ 41.2],\n",
              "       [ 40.6],\n",
              "       [ 37.3],\n",
              "       [ 41.9],\n",
              "       [ 36.3],\n",
              "       [ 36.2],\n",
              "       [ 46.5],\n",
              "       [ 45.5],\n",
              "       [ 39.7],\n",
              "       [ 41. ],\n",
              "       [ 40.5],\n",
              "       [ 43.4],\n",
              "       [ 45.6],\n",
              "       [ 62.9],\n",
              "       [ 42. ],\n",
              "       [ 38. ],\n",
              "       [ 46.9],\n",
              "       [ 46.1],\n",
              "       [ 44.7],\n",
              "       [ 46.4],\n",
              "       [ 39.7],\n",
              "       [ 39.9],\n",
              "       [ 42.7],\n",
              "       [ 39.2],\n",
              "       [ 42.1],\n",
              "       [ 40.5],\n",
              "       [ 40. ],\n",
              "       [ 48.5],\n",
              "       [ 50.3],\n",
              "       [ 41.2],\n",
              "       [ 40.3],\n",
              "       [ 40. ],\n",
              "       [ 31.4],\n",
              "       [ 46.4],\n",
              "       [ 41.7],\n",
              "       [ 41.6],\n",
              "       [ 43.2],\n",
              "       [ 42.9],\n",
              "       [ 39.9],\n",
              "       [ 40.4],\n",
              "       [ 42.4],\n",
              "       [ 39.3],\n",
              "       [ 46.2],\n",
              "       [ 39.8],\n",
              "       [ 43.4],\n",
              "       [ 38.7],\n",
              "       [ 37.6],\n",
              "       [ 44.1],\n",
              "       [ 41.2],\n",
              "       [ 39. ],\n",
              "       [ 39. ],\n",
              "       [ 34.7],\n",
              "       [ 44.8],\n",
              "       [ 33.7],\n",
              "       [ 47.8],\n",
              "       [ 37.4],\n",
              "       [ 45.6],\n",
              "       [ 35.5],\n",
              "       [ 44. ],\n",
              "       [ 48.3],\n",
              "       [ 35.8],\n",
              "       [ 43. ],\n",
              "       [ 36.3],\n",
              "       [ 35.5],\n",
              "       [ 36.7],\n",
              "       [ 39.5],\n",
              "       [ 38.6],\n",
              "       [ 41.7],\n",
              "       [ 41.8],\n",
              "       [ 46.4],\n",
              "       [ 37.5],\n",
              "       [ 37. ],\n",
              "       [ 59.8],\n",
              "       [ 48.8],\n",
              "       [ 36.7],\n",
              "       [ 35.8],\n",
              "       [ 39.9],\n",
              "       [ 32.4],\n",
              "       [ 40.1],\n",
              "       [ 39.9],\n",
              "       [ 42.9],\n",
              "       [ 41.1],\n",
              "       [ 42.3],\n",
              "       [ 37.9],\n",
              "       [ 36.8],\n",
              "       [ 51.3],\n",
              "       [ 35.6],\n",
              "       [ 38.7],\n",
              "       [ 36.4],\n",
              "       [ 34.6],\n",
              "       [ 40.3],\n",
              "       [ 45.6],\n",
              "       [ 35.2],\n",
              "       [ 39.2],\n",
              "       [ 32. ],\n",
              "       [ 46.3],\n",
              "       [ 45.3],\n",
              "       [ 37.5],\n",
              "       [ 39.6],\n",
              "       [ 43.7],\n",
              "       [ 46.8],\n",
              "       [ 42.5],\n",
              "       [ 44.4],\n",
              "       [ 44.4],\n",
              "       [ 38.8],\n",
              "       [ 38.8],\n",
              "       [ 40.9],\n",
              "       [ 39.1],\n",
              "       [ 39.3],\n",
              "       [ 40.5],\n",
              "       [ 34.9],\n",
              "       [ 45.4],\n",
              "       [ 43.3],\n",
              "       [ 36.9],\n",
              "       [ 47.6],\n",
              "       [ 42.5],\n",
              "       [ 39.9],\n",
              "       [ 41.2],\n",
              "       [ 34.6],\n",
              "       [ 46.3],\n",
              "       [ 37.8],\n",
              "       [ 38.3],\n",
              "       [ 39.6],\n",
              "       [ 38.3],\n",
              "       [ 43.1],\n",
              "       [ 41.4],\n",
              "       [ 41. ],\n",
              "       [ 46. ],\n",
              "       [ 39.6],\n",
              "       [ 47.4],\n",
              "       [ 43.7],\n",
              "       [ 45.5],\n",
              "       [ 43.8],\n",
              "       [ 36. ],\n",
              "       [ 41.7],\n",
              "       [ 40.2],\n",
              "       [ 51.5],\n",
              "       [ 36.7],\n",
              "       [ 41.3],\n",
              "       [ 38.2],\n",
              "       [ 42.4],\n",
              "       [ 39. ],\n",
              "       [ 40.1],\n",
              "       [ 43.7],\n",
              "       [ 43.5],\n",
              "       [ 41.1],\n",
              "       [ 38. ],\n",
              "       [ 47.4],\n",
              "       [ 51.3],\n",
              "       [ 39.9],\n",
              "       [ 26.2],\n",
              "       [ 44.5],\n",
              "       [ 39.9],\n",
              "       [ 43.3],\n",
              "       [ 41.9],\n",
              "       [ 36.2],\n",
              "       [ 35.2],\n",
              "       [ 39.9],\n",
              "       [ 39.7],\n",
              "       [ 39.5],\n",
              "       [ 34.7],\n",
              "       [ 36.6],\n",
              "       [ 33.2],\n",
              "       [ 45.1],\n",
              "       [ 39.9],\n",
              "       [ 48.4],\n",
              "       [ 41.2],\n",
              "       [ 42.6],\n",
              "       [ 38.6],\n",
              "       [ 27.3],\n",
              "       [ 37.9],\n",
              "       [ 38.7],\n",
              "       [ 48. ],\n",
              "       [ 44.7],\n",
              "       [ 42.7],\n",
              "       [ 35.3],\n",
              "       [ 26.3],\n",
              "       [ 47. ],\n",
              "       [ 43. ],\n",
              "       [ 45.1],\n",
              "       [ 40. ],\n",
              "       [ 40.5],\n",
              "       [ 35.8],\n",
              "       [ 52.4],\n",
              "       [ 40.1],\n",
              "       [ 45.4],\n",
              "       [ 41.4],\n",
              "       [ 38.1],\n",
              "       [ 43.4],\n",
              "       [ 36.6],\n",
              "       [ 35.4],\n",
              "       [ 44. ],\n",
              "       [ 47.6],\n",
              "       [ 36.1],\n",
              "       [ 27.8],\n",
              "       [ 39.8],\n",
              "       [ 43. ],\n",
              "       [ 33. ],\n",
              "       [ 41.4],\n",
              "       [ 40. ],\n",
              "       [ 22.5],\n",
              "       [ 24.9],\n",
              "       [ 21.6],\n",
              "       [ 47.3],\n",
              "       [ 14.9],\n",
              "       [ 20.3],\n",
              "       [ 19.3],\n",
              "       [ 45. ],\n",
              "       [ 41. ],\n",
              "       [ 47. ],\n",
              "       [ 42. ],\n",
              "       [ 45. ],\n",
              "       [ 49. ],\n",
              "       [ 45. ],\n",
              "       [ 45. ],\n",
              "       [ 41. ],\n",
              "       [ 46. ],\n",
              "       [ 47. ],\n",
              "       [ 44. ],\n",
              "       [ 41. ],\n",
              "       [ 42. ],\n",
              "       [ 49. ],\n",
              "       [ 48. ],\n",
              "       [ 42. ],\n",
              "       [ 43. ],\n",
              "       [ 37. ],\n",
              "       [ 43. ],\n",
              "       [ 43. ],\n",
              "       [ 37. ],\n",
              "       [ 40. ],\n",
              "       [ 50. ],\n",
              "       [ 41. ],\n",
              "       [ 39. ],\n",
              "       [ 45. ],\n",
              "       [ 49. ],\n",
              "       [ 39. ],\n",
              "       [ 46. ],\n",
              "       [ 42. ],\n",
              "       [ 46. ],\n",
              "       [ 41. ],\n",
              "       [ 47. ],\n",
              "       [ 44. ],\n",
              "       [ 38. ],\n",
              "       [ 37. ],\n",
              "       [ 46. ],\n",
              "       [ 40. ],\n",
              "       [ 43. ],\n",
              "       [ 43. ],\n",
              "       [ 39. ],\n",
              "       [ 37. ],\n",
              "       [ 39. ],\n",
              "       [ 36. ],\n",
              "       [ 44. ],\n",
              "       [ 34. ],\n",
              "       [ 31. ],\n",
              "       [ 36. ],\n",
              "       [ 29. ],\n",
              "       [ 20. ],\n",
              "       [ 35. ],\n",
              "       [ 42. ],\n",
              "       [ 39. ],\n",
              "       [ 33. ],\n",
              "       [ 27. ],\n",
              "       [ 23. ],\n",
              "       [ 30. ],\n",
              "       [ 31. ],\n",
              "       [ 36. ],\n",
              "       [ 27. ],\n",
              "       [ 31. ],\n",
              "       [ 39. ],\n",
              "       [999. ],\n",
              "       [ 23. ],\n",
              "       [ 33. ],\n",
              "       [ 33. ],\n",
              "       [ 39. ],\n",
              "       [ 34. ],\n",
              "       [ 39. ],\n",
              "       [ 32. ],\n",
              "       [ 24. ],\n",
              "       [ 29. ],\n",
              "       [ 33. ],\n",
              "       [ 36. ]])"
            ]
          },
          "metadata": {},
          "execution_count": 47
        }
      ]
    },
    {
      "cell_type": "code",
      "source": [
        "x_array.astype"
      ],
      "metadata": {
        "colab": {
          "base_uri": "https://localhost:8080/"
        },
        "id": "LIQVkkXTyO-J",
        "outputId": "c4083eb7-6012-4954-fadc-f51c9d5ea2ff"
      },
      "execution_count": null,
      "outputs": [
        {
          "output_type": "execute_result",
          "data": {
            "text/plain": [
              "<function ndarray.astype>"
            ]
          },
          "metadata": {},
          "execution_count": 48
        }
      ]
    },
    {
      "cell_type": "code",
      "source": [
        "# Visualization of Cluster\n",
        "plt.style.use(\"ggplot\")\n",
        "plt.figure(figsize=(15,8))\n",
        "plt.title('Clusters of hcv patients')\n",
        "plt.xlabel('Sex')\n",
        "plt.ylabel('ALB')\n",
        "sns.scatterplot( x = x_array[y_clusters == 0, 0], y = x_array[y_clusters == 0, 1], label = \"Cluster 1\", s = 50)\n",
        "sns.scatterplot( x = x_array[y_clusters == 1, 0], y = x_array[y_clusters == 1, 1], label = \"Cluster 2\", s = 50)\n",
        "sns.scatterplot( x = x_array[y_clusters == 2, 0], y = x_array[y_clusters == 2, 1], label = \"Cluster 3\", s = 50)\n",
        "sns.scatterplot( x = x_array[y_clusters == 3, 0], y = x_array[y_clusters == 3, 1], label = \"Cluster 4\", s = 50)\n",
        "sns.scatterplot( x = x_array[y_clusters == 4, 0], y = x_array[y_clusters == 4, 1], label = \"Cluster 5\", s = 50)\n",
        "#plot the centroid of the cluster inside the plot\n",
        "sns.scatterplot(kmeans.cluster_centers_[:,0],kmeans.cluster_centers_[: ,1],marker='x',color='black',label='Centroid',s=100)\n",
        "plt.show()"
      ],
      "metadata": {
        "colab": {
          "base_uri": "https://localhost:8080/",
          "height": 734
        },
        "id": "ASboJFMpySS8",
        "outputId": "dc11f908-b60f-4529-ee54-a5f341525a6b"
      },
      "execution_count": null,
      "outputs": [
        {
          "output_type": "error",
          "ename": "IndexError",
          "evalue": "ignored",
          "traceback": [
            "\u001b[0;31m---------------------------------------------------------------------------\u001b[0m",
            "\u001b[0;31mIndexError\u001b[0m                                Traceback (most recent call last)",
            "\u001b[0;32m<ipython-input-53-7163cb63fe11>\u001b[0m in \u001b[0;36m<module>\u001b[0;34m()\u001b[0m\n\u001b[1;32m      6\u001b[0m \u001b[0mplt\u001b[0m\u001b[0;34m.\u001b[0m\u001b[0mylabel\u001b[0m\u001b[0;34m(\u001b[0m\u001b[0;34m'ALB'\u001b[0m\u001b[0;34m)\u001b[0m\u001b[0;34m\u001b[0m\u001b[0;34m\u001b[0m\u001b[0m\n\u001b[1;32m      7\u001b[0m \u001b[0;31m#sns.scatterplot( x = x_array[y_clusters == 0, 0], y = x_array[y_clusters == 0, 1], label = \"Cluster 1\", s = 50)\u001b[0m\u001b[0;34m\u001b[0m\u001b[0;34m\u001b[0m\u001b[0;34m\u001b[0m\u001b[0m\n\u001b[0;32m----> 8\u001b[0;31m \u001b[0msns\u001b[0m\u001b[0;34m.\u001b[0m\u001b[0mscatterplot\u001b[0m\u001b[0;34m(\u001b[0m \u001b[0mx\u001b[0m \u001b[0;34m=\u001b[0m \u001b[0mx_array\u001b[0m\u001b[0;34m[\u001b[0m\u001b[0my_clusters\u001b[0m \u001b[0;34m==\u001b[0m \u001b[0;36m1\u001b[0m\u001b[0;34m,\u001b[0m \u001b[0;36m0\u001b[0m\u001b[0;34m]\u001b[0m\u001b[0;34m,\u001b[0m \u001b[0my\u001b[0m \u001b[0;34m=\u001b[0m \u001b[0mx_array\u001b[0m\u001b[0;34m[\u001b[0m\u001b[0my_clusters\u001b[0m \u001b[0;34m==\u001b[0m \u001b[0;36m1\u001b[0m\u001b[0;34m,\u001b[0m \u001b[0;36m1\u001b[0m\u001b[0;34m]\u001b[0m\u001b[0;34m,\u001b[0m \u001b[0mlabel\u001b[0m \u001b[0;34m=\u001b[0m \u001b[0;34m\"Cluster 2\"\u001b[0m\u001b[0;34m,\u001b[0m \u001b[0ms\u001b[0m \u001b[0;34m=\u001b[0m \u001b[0;36m50\u001b[0m\u001b[0;34m)\u001b[0m\u001b[0;34m\u001b[0m\u001b[0;34m\u001b[0m\u001b[0m\n\u001b[0m\u001b[1;32m      9\u001b[0m \u001b[0msns\u001b[0m\u001b[0;34m.\u001b[0m\u001b[0mscatterplot\u001b[0m\u001b[0;34m(\u001b[0m \u001b[0mx\u001b[0m \u001b[0;34m=\u001b[0m \u001b[0mx_array\u001b[0m\u001b[0;34m[\u001b[0m\u001b[0my_clusters\u001b[0m \u001b[0;34m==\u001b[0m \u001b[0;36m2\u001b[0m\u001b[0;34m,\u001b[0m \u001b[0;36m0\u001b[0m\u001b[0;34m]\u001b[0m\u001b[0;34m,\u001b[0m \u001b[0my\u001b[0m \u001b[0;34m=\u001b[0m \u001b[0mx_array\u001b[0m\u001b[0;34m[\u001b[0m\u001b[0my_clusters\u001b[0m \u001b[0;34m==\u001b[0m \u001b[0;36m2\u001b[0m\u001b[0;34m,\u001b[0m \u001b[0;36m1\u001b[0m\u001b[0;34m]\u001b[0m\u001b[0;34m,\u001b[0m \u001b[0mlabel\u001b[0m \u001b[0;34m=\u001b[0m \u001b[0;34m\"Cluster 3\"\u001b[0m\u001b[0;34m,\u001b[0m \u001b[0ms\u001b[0m \u001b[0;34m=\u001b[0m \u001b[0;36m50\u001b[0m\u001b[0;34m)\u001b[0m\u001b[0;34m\u001b[0m\u001b[0;34m\u001b[0m\u001b[0m\n\u001b[1;32m     10\u001b[0m \u001b[0msns\u001b[0m\u001b[0;34m.\u001b[0m\u001b[0mscatterplot\u001b[0m\u001b[0;34m(\u001b[0m \u001b[0mx\u001b[0m \u001b[0;34m=\u001b[0m \u001b[0mx_array\u001b[0m\u001b[0;34m[\u001b[0m\u001b[0my_clusters\u001b[0m \u001b[0;34m==\u001b[0m \u001b[0;36m3\u001b[0m\u001b[0;34m,\u001b[0m \u001b[0;36m0\u001b[0m\u001b[0;34m]\u001b[0m\u001b[0;34m,\u001b[0m \u001b[0my\u001b[0m \u001b[0;34m=\u001b[0m \u001b[0mx_array\u001b[0m\u001b[0;34m[\u001b[0m\u001b[0my_clusters\u001b[0m \u001b[0;34m==\u001b[0m \u001b[0;36m3\u001b[0m\u001b[0;34m,\u001b[0m \u001b[0;36m1\u001b[0m\u001b[0;34m]\u001b[0m\u001b[0;34m,\u001b[0m \u001b[0mlabel\u001b[0m \u001b[0;34m=\u001b[0m \u001b[0;34m\"Cluster 4\"\u001b[0m\u001b[0;34m,\u001b[0m \u001b[0ms\u001b[0m \u001b[0;34m=\u001b[0m \u001b[0;36m50\u001b[0m\u001b[0;34m)\u001b[0m\u001b[0;34m\u001b[0m\u001b[0;34m\u001b[0m\u001b[0m\n",
            "\u001b[0;31mIndexError\u001b[0m: index 1 is out of bounds for axis 1 with size 1"
          ]
        },
        {
          "output_type": "display_data",
          "data": {
            "text/plain": [
              "<Figure size 1080x576 with 1 Axes>"
            ],
            "image/png": "[encoded data removed]"
          },
          "metadata": {}
        }
      ]
    }
  ]
}